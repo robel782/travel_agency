{
 "cells": [
  {
   "cell_type": "code",
   "execution_count": 1,
   "id": "466ede19",
   "metadata": {},
   "outputs": [],
   "source": [
    "import pandas as pd"
   ]
  },
  {
   "cell_type": "code",
   "execution_count": 2,
   "id": "97c48124",
   "metadata": {},
   "outputs": [],
   "source": [
    "df = pd.read_csv('travel_agency_offers.csv')"
   ]
  },
  {
   "cell_type": "code",
   "execution_count": 10,
   "id": "a2ad2e85",
   "metadata": {},
   "outputs": [
    {
     "data": {
      "text/plain": [
       "0    Portugal\n",
       "Name: Country, dtype: object"
      ]
     },
     "execution_count": 10,
     "metadata": {},
     "output_type": "execute_result"
    }
   ],
   "source": [
    "df[:1]['Country']"
   ]
  },
  {
   "cell_type": "code",
   "execution_count": null,
   "id": "d9621473",
   "metadata": {},
   "outputs": [],
   "source": []
  }
 ],
 "metadata": {
  "kernelspec": {
   "display_name": "Python 3",
   "language": "python",
   "name": "python3"
  },
  "language_info": {
   "codemirror_mode": {
    "name": "ipython",
    "version": 3
   },
   "file_extension": ".py",
   "mimetype": "text/x-python",
   "name": "python",
   "nbconvert_exporter": "python",
   "pygments_lexer": "ipython3",
   "version": "3.9.0"
  }
 },
 "nbformat": 4,
 "nbformat_minor": 5
}
